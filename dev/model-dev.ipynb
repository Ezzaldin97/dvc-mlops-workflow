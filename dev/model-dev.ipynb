{
 "cells": [
  {
   "cell_type": "code",
   "execution_count": 1,
   "id": "dd1f44dd-7264-4cf0-ba38-61e3c94d8611",
   "metadata": {},
   "outputs": [],
   "source": [
    "import pandas as pd\n",
    "import numpy as np\n",
    "import os\n",
    "import re\n",
    "import warnings\n",
    "from tqdm import tqdm\n",
    "pd.set_option('display.max_columns', 100)\n",
    "pd.set_option('display.max_rows', 50)"
   ]
  },
  {
   "cell_type": "code",
   "execution_count": 22,
   "id": "a4a63c32-2401-4f5a-92f5-6f09036e0622",
   "metadata": {},
   "outputs": [],
   "source": [
    "from sklearn.model_selection import train_test_split, cross_validate\n",
    "from sklearn.ensemble import RandomForestClassifier, GradientBoostingClassifier\n",
    "import lightgbm as lgbm\n",
    "from sklearn.preprocessing import StandardScaler, OneHotEncoder, OrdinalEncoder, FunctionTransformer\n",
    "from sklearn.metrics import confusion_matrix, f1_score, ConfusionMatrixDisplay, roc_auc_score\n",
    "from sklearn.pipeline import Pipeline\n",
    "from sklearn.compose import ColumnTransformer\n",
    "from sklearn.feature_selection import mutual_info_classif"
   ]
  },
  {
   "cell_type": "code",
   "execution_count": 3,
   "id": "f633921d-77af-40be-9d62-0cc9e7377529",
   "metadata": {},
   "outputs": [],
   "source": [
    "from hyperopt import fmin, tpe, hp, STATUS_OK, Trials\n",
    "from hyperopt.pyll import scope\n",
    "import pickle"
   ]
  },
  {
   "cell_type": "code",
   "execution_count": 20,
   "id": "1a4e69a7-21ae-4ef3-b34f-6a53d8e57620",
   "metadata": {},
   "outputs": [],
   "source": [
    "# CONSTANTS\n",
    "EXTERNAL_DATA_PATH = \"../data/external\"\n",
    "DESTINATION_DATA_PATH = \"../data/preprocessed\"\n",
    "ARTIFACTS_PATH = \"../bin\"\n",
    "SEED = 42\n",
    "test_size = 0.15\n",
    "\n",
    "\n",
    "np.random.seed(SEED)"
   ]
  },
  {
   "cell_type": "code",
   "execution_count": 5,
   "id": "e38a58e5-3589-49e7-bf1e-3b34650eb8cf",
   "metadata": {},
   "outputs": [],
   "source": [
    "def reduce_memory_usage(df:pd.DataFrame) -> pd.DataFrame:\n",
    "        numerics = ['int8', 'int16', 'int32', 'int64', 'float8','float16', 'float32', 'float64']\n",
    "        start_mem = df.memory_usage().sum() / 1024**2    \n",
    "        for col in tqdm(df.columns):\n",
    "            col_type = df[col].dtypes\n",
    "            if col_type in numerics:\n",
    "                c_min = df[col].min()\n",
    "                c_max = df[col].max()\n",
    "                if str(col_type)[:3] == 'int':\n",
    "                    if (c_min > np.iinfo(np.int8).min and c_max < np.iinfo(np.int8).max) or (c_min > np.iinfo(np.int16).min and c_max < np.iinfo(np.int16).max):\n",
    "                        df[col] = df[col].astype(np.int16)\n",
    "                    elif c_min > np.iinfo(np.int32).min and c_max < np.iinfo(np.int32).max:\n",
    "                        df[col] = df[col].astype(np.int32)\n",
    "                    elif c_min > np.iinfo(np.int64).min and c_max < np.iinfo(np.int64).max:\n",
    "                        df[col] = df[col].astype(np.int64)  \n",
    "                else:\n",
    "                    if (c_min > np.finfo(np.float16).min and c_max < np.finfo(np.float16).max) or (c_min > np.finfo(np.float32).min and c_max < np.finfo(np.float32).max):\n",
    "                        df[col] = df[col].astype(np.float32)\n",
    "                    else:\n",
    "                        df[col] = df[col].astype(np.float64)    \n",
    "        end_mem = df.memory_usage().sum() / 1024**2\n",
    "        print(f'Mem. usage decreased to {end_mem:5.2f} Mb ({100 * (start_mem - end_mem) / start_mem:.1f}% reduction)')\n",
    "        return df"
   ]
  },
  {
   "cell_type": "code",
   "execution_count": 6,
   "id": "99c5ca0d-ff98-475d-a990-7f5bfe6eac83",
   "metadata": {},
   "outputs": [
    {
     "name": "stderr",
     "output_type": "stream",
     "text": [
      "100%|█████████████████████████████████████████████████████████████████████████████| 21/21 [00:00<00:00, 335.92it/s]"
     ]
    },
    {
     "name": "stdout",
     "output_type": "stream",
     "text": [
      "Mem. usage decreased to  0.09 Mb (72.6% reduction)\n"
     ]
    },
    {
     "name": "stderr",
     "output_type": "stream",
     "text": [
      "\n"
     ]
    },
    {
     "data": {
      "text/html": [
       "<div>\n",
       "<style scoped>\n",
       "    .dataframe tbody tr th:only-of-type {\n",
       "        vertical-align: middle;\n",
       "    }\n",
       "\n",
       "    .dataframe tbody tr th {\n",
       "        vertical-align: top;\n",
       "    }\n",
       "\n",
       "    .dataframe thead th {\n",
       "        text-align: right;\n",
       "    }\n",
       "</style>\n",
       "<table border=\"1\" class=\"dataframe\">\n",
       "  <thead>\n",
       "    <tr style=\"text-align: right;\">\n",
       "      <th></th>\n",
       "      <th>battery_power</th>\n",
       "      <th>blue</th>\n",
       "      <th>clock_speed</th>\n",
       "      <th>dual_sim</th>\n",
       "      <th>fc</th>\n",
       "      <th>four_g</th>\n",
       "      <th>int_memory</th>\n",
       "      <th>m_dep</th>\n",
       "      <th>mobile_wt</th>\n",
       "      <th>n_cores</th>\n",
       "      <th>pc</th>\n",
       "      <th>px_height</th>\n",
       "      <th>px_width</th>\n",
       "      <th>ram</th>\n",
       "      <th>sc_h</th>\n",
       "      <th>sc_w</th>\n",
       "      <th>talk_time</th>\n",
       "      <th>three_g</th>\n",
       "      <th>touch_screen</th>\n",
       "      <th>wifi</th>\n",
       "      <th>price_range</th>\n",
       "    </tr>\n",
       "  </thead>\n",
       "  <tbody>\n",
       "    <tr>\n",
       "      <th>0</th>\n",
       "      <td>842</td>\n",
       "      <td>0</td>\n",
       "      <td>2.2</td>\n",
       "      <td>0</td>\n",
       "      <td>1</td>\n",
       "      <td>0</td>\n",
       "      <td>7</td>\n",
       "      <td>0.6</td>\n",
       "      <td>188</td>\n",
       "      <td>2</td>\n",
       "      <td>2</td>\n",
       "      <td>20</td>\n",
       "      <td>756</td>\n",
       "      <td>2549</td>\n",
       "      <td>9</td>\n",
       "      <td>7</td>\n",
       "      <td>19</td>\n",
       "      <td>0</td>\n",
       "      <td>0</td>\n",
       "      <td>1</td>\n",
       "      <td>1</td>\n",
       "    </tr>\n",
       "    <tr>\n",
       "      <th>1</th>\n",
       "      <td>1021</td>\n",
       "      <td>1</td>\n",
       "      <td>0.5</td>\n",
       "      <td>1</td>\n",
       "      <td>0</td>\n",
       "      <td>1</td>\n",
       "      <td>53</td>\n",
       "      <td>0.7</td>\n",
       "      <td>136</td>\n",
       "      <td>3</td>\n",
       "      <td>6</td>\n",
       "      <td>905</td>\n",
       "      <td>1988</td>\n",
       "      <td>2631</td>\n",
       "      <td>17</td>\n",
       "      <td>3</td>\n",
       "      <td>7</td>\n",
       "      <td>1</td>\n",
       "      <td>1</td>\n",
       "      <td>0</td>\n",
       "      <td>2</td>\n",
       "    </tr>\n",
       "    <tr>\n",
       "      <th>2</th>\n",
       "      <td>563</td>\n",
       "      <td>1</td>\n",
       "      <td>0.5</td>\n",
       "      <td>1</td>\n",
       "      <td>2</td>\n",
       "      <td>1</td>\n",
       "      <td>41</td>\n",
       "      <td>0.9</td>\n",
       "      <td>145</td>\n",
       "      <td>5</td>\n",
       "      <td>6</td>\n",
       "      <td>1263</td>\n",
       "      <td>1716</td>\n",
       "      <td>2603</td>\n",
       "      <td>11</td>\n",
       "      <td>2</td>\n",
       "      <td>9</td>\n",
       "      <td>1</td>\n",
       "      <td>1</td>\n",
       "      <td>0</td>\n",
       "      <td>2</td>\n",
       "    </tr>\n",
       "    <tr>\n",
       "      <th>3</th>\n",
       "      <td>615</td>\n",
       "      <td>1</td>\n",
       "      <td>2.5</td>\n",
       "      <td>0</td>\n",
       "      <td>0</td>\n",
       "      <td>0</td>\n",
       "      <td>10</td>\n",
       "      <td>0.8</td>\n",
       "      <td>131</td>\n",
       "      <td>6</td>\n",
       "      <td>9</td>\n",
       "      <td>1216</td>\n",
       "      <td>1786</td>\n",
       "      <td>2769</td>\n",
       "      <td>16</td>\n",
       "      <td>8</td>\n",
       "      <td>11</td>\n",
       "      <td>1</td>\n",
       "      <td>0</td>\n",
       "      <td>0</td>\n",
       "      <td>2</td>\n",
       "    </tr>\n",
       "    <tr>\n",
       "      <th>4</th>\n",
       "      <td>1821</td>\n",
       "      <td>1</td>\n",
       "      <td>1.2</td>\n",
       "      <td>0</td>\n",
       "      <td>13</td>\n",
       "      <td>1</td>\n",
       "      <td>44</td>\n",
       "      <td>0.6</td>\n",
       "      <td>141</td>\n",
       "      <td>2</td>\n",
       "      <td>14</td>\n",
       "      <td>1208</td>\n",
       "      <td>1212</td>\n",
       "      <td>1411</td>\n",
       "      <td>8</td>\n",
       "      <td>2</td>\n",
       "      <td>15</td>\n",
       "      <td>1</td>\n",
       "      <td>1</td>\n",
       "      <td>0</td>\n",
       "      <td>1</td>\n",
       "    </tr>\n",
       "  </tbody>\n",
       "</table>\n",
       "</div>"
      ],
      "text/plain": [
       "   battery_power  blue  clock_speed  dual_sim  fc  four_g  int_memory  m_dep  \\\n",
       "0            842     0          2.2         0   1       0           7    0.6   \n",
       "1           1021     1          0.5         1   0       1          53    0.7   \n",
       "2            563     1          0.5         1   2       1          41    0.9   \n",
       "3            615     1          2.5         0   0       0          10    0.8   \n",
       "4           1821     1          1.2         0  13       1          44    0.6   \n",
       "\n",
       "   mobile_wt  n_cores  pc  px_height  px_width   ram  sc_h  sc_w  talk_time  \\\n",
       "0        188        2   2         20       756  2549     9     7         19   \n",
       "1        136        3   6        905      1988  2631    17     3          7   \n",
       "2        145        5   6       1263      1716  2603    11     2          9   \n",
       "3        131        6   9       1216      1786  2769    16     8         11   \n",
       "4        141        2  14       1208      1212  1411     8     2         15   \n",
       "\n",
       "   three_g  touch_screen  wifi  price_range  \n",
       "0        0             0     1            1  \n",
       "1        1             1     0            2  \n",
       "2        1             1     0            2  \n",
       "3        1             0     0            2  \n",
       "4        1             1     0            1  "
      ]
     },
     "execution_count": 6,
     "metadata": {},
     "output_type": "execute_result"
    }
   ],
   "source": [
    "df = reduce_memory_usage(pd.read_csv(os.path.join(EXTERNAL_DATA_PATH, \"train.csv\"), engine = \"pyarrow\"))\n",
    "df.head()"
   ]
  },
  {
   "cell_type": "code",
   "execution_count": 18,
   "id": "bf8b005f-eafa-4c65-ab2f-64c9922b41f2",
   "metadata": {},
   "outputs": [
    {
     "name": "stdout",
     "output_type": "stream",
     "text": [
      "<class 'pandas.core.frame.DataFrame'>\n",
      "RangeIndex: 2000 entries, 0 to 1999\n",
      "Data columns (total 27 columns):\n",
      " #   Column                    Non-Null Count  Dtype  \n",
      "---  ------                    --------------  -----  \n",
      " 0   battery_power             2000 non-null   int16  \n",
      " 1   blue                      2000 non-null   int16  \n",
      " 2   clock_speed               2000 non-null   float32\n",
      " 3   dual_sim                  2000 non-null   int16  \n",
      " 4   fc                        2000 non-null   int16  \n",
      " 5   four_g                    2000 non-null   int16  \n",
      " 6   int_memory                2000 non-null   int16  \n",
      " 7   m_dep                     2000 non-null   float32\n",
      " 8   mobile_wt                 2000 non-null   int16  \n",
      " 9   n_cores                   2000 non-null   int16  \n",
      " 10  pc                        2000 non-null   int16  \n",
      " 11  px_height                 2000 non-null   int16  \n",
      " 12  px_width                  2000 non-null   int16  \n",
      " 13  ram                       2000 non-null   int16  \n",
      " 14  sc_h                      2000 non-null   int16  \n",
      " 15  sc_w                      2000 non-null   int16  \n",
      " 16  talk_time                 2000 non-null   int16  \n",
      " 17  three_g                   2000 non-null   int16  \n",
      " 18  touch_screen              2000 non-null   int16  \n",
      " 19  wifi                      2000 non-null   int16  \n",
      " 20  price_range               2000 non-null   int16  \n",
      " 21  cpu_interaction           2000 non-null   float32\n",
      " 22  camera_interaction        2000 non-null   int16  \n",
      " 23  px_interaction            2000 non-null   int16  \n",
      " 24  sc_interaction            2000 non-null   int16  \n",
      " 25  g_interaction             2000 non-null   int16  \n",
      " 26  capabilities_interaction  2000 non-null   int16  \n",
      "dtypes: float32(3), int16(24)\n",
      "memory usage: 117.3 KB\n"
     ]
    }
   ],
   "source": [
    "df.info()"
   ]
  },
  {
   "cell_type": "code",
   "execution_count": 11,
   "id": "548647f7-f685-4e2b-94b1-04e7be2e5f84",
   "metadata": {},
   "outputs": [
    {
     "data": {
      "text/plain": [
       "0"
      ]
     },
     "execution_count": 11,
     "metadata": {},
     "output_type": "execute_result"
    }
   ],
   "source": [
    "# make sure no duplication....\n",
    "df.duplicated().sum()"
   ]
  },
  {
   "cell_type": "code",
   "execution_count": 7,
   "id": "c453c29a-30a0-48bc-b9e8-4f19ea335525",
   "metadata": {},
   "outputs": [],
   "source": [
    "# suggested Feature Engineering..\n",
    "df[\"cpu_interaction\"] = df[\"clock_speed\"] * df[\"n_cores\"]\n",
    "df[\"camera_interaction\"] = df[\"pc\"] + df[\"fc\"]\n",
    "df[\"px_interaction\"] = df[\"px_height\"]*df[\"px_width\"]\n",
    "df[\"sc_interaction\"] = df[\"sc_h\"]*df[\"sc_w\"]\n",
    "df[\"g_interaction\"] = df[\"three_g\"] + df[\"four_g\"]\n",
    "df[\"capabilities_interaction\"] = df[\"wifi\"]+df[\"touch_screen\"]+df[\"blue\"]+df[\"dual_sim\"]+df[\"g_interaction\"]"
   ]
  },
  {
   "cell_type": "code",
   "execution_count": 12,
   "id": "7f293b25-6e3c-486d-b30e-e83c659b51bd",
   "metadata": {},
   "outputs": [],
   "source": [
    "# selecting best features, based on mutual info score.....\n",
    "def select_best_features(X, y, thresh:float=0.01):\n",
    "    mi_scores = mutual_info_classif(X, y)\n",
    "    mi_scores = pd.Series(mi_scores, name = \"MI-Scores\", index = X.columns)\n",
    "    mi_scores.sort_values(ascending = False)\n",
    "    mi_scores = mi_scores[mi_scores>0.01]\n",
    "    return list(mi_scores.index)"
   ]
  },
  {
   "cell_type": "code",
   "execution_count": 17,
   "id": "78d6c755-0629-4438-9899-74fa32e23fda",
   "metadata": {},
   "outputs": [
    {
     "data": {
      "text/plain": [
       "['battery_power',\n",
       " 'fc',\n",
       " 'int_memory',\n",
       " 'mobile_wt',\n",
       " 'n_cores',\n",
       " 'px_height',\n",
       " 'px_width',\n",
       " 'ram',\n",
       " 'sc_h',\n",
       " 'sc_w',\n",
       " 'camera_interaction',\n",
       " 'sc_interaction',\n",
       " 'g_interaction']"
      ]
     },
     "execution_count": 17,
     "metadata": {},
     "output_type": "execute_result"
    }
   ],
   "source": [
    "X,y = df.drop(\"price_range\", axis = 1), df[\"price_range\"]\n",
    "best_features = select_best_features(X, y)\n",
    "best_features"
   ]
  },
  {
   "cell_type": "code",
   "execution_count": 19,
   "id": "cab125d9-cf0b-4446-be04-c65c607cdd5c",
   "metadata": {},
   "outputs": [],
   "source": [
    "# search space of GB Classifier\n",
    "SEARCH_SPACE={\n",
    "    \"n_estimators\":scope.int(hp.quniform(\"n_estimators\", 20, 700, 5)),\n",
    "    \"max_depth\":scope.int(hp.quniform(\"max_depth\", 1, 12, 1)),\n",
    "    \"min_samples_split\":scope.int(hp.quniform(\"num_leaves\", 100, 150, 5)),\n",
    "    \"min_samples_leaf\":scope.int(hp.quniform(\"min_samples_leaf\", 30, 500, 20)),\n",
    "    \"learning_rate\":scope.float(hp.quniform(\"learning_rate\", 0.01, 0.3, 0.001))\n",
    "}"
   ]
  },
  {
   "cell_type": "code",
   "execution_count": 38,
   "id": "2558f269-e102-4886-b098-76d56c3a27e1",
   "metadata": {},
   "outputs": [],
   "source": [
    "X_train, X_valid, y_train, y_valid = train_test_split(X[best_features], y, test_size = 0.15, random_state = SEED)"
   ]
  },
  {
   "cell_type": "code",
   "execution_count": 41,
   "id": "b709ab17-4df0-4fef-90d5-9be72c4550ec",
   "metadata": {},
   "outputs": [],
   "source": [
    "def optimize(params):\n",
    "    booster = GradientBoostingClassifier(**params)\n",
    "    booster.fit(X_train, y_train)\n",
    "    y_pred_probs = booster.predict_proba(X_valid)\n",
    "    y_pred = booster.predict(X_valid)\n",
    "    auc_roc = -1*roc_auc_score(y_valid, y_pred_probs, multi_class = \"ovr\")\n",
    "    f1 = -1*f1_score(y_valid, y_pred, average = \"micro\")\n",
    "    #cm = confusion_matrix(y_valid, y_pred)\n",
    "    print(f\"AUC-ROC: {auc_roc}\")\n",
    "    print(f\"F1-SCORE: {f1}\")\n",
    "    return {\"loss\":auc_roc, \"status\":STATUS_OK}"
   ]
  },
  {
   "cell_type": "code",
   "execution_count": 44,
   "id": "bf01f31c-7e1d-42b4-bf74-cbd0dbd7ced3",
   "metadata": {},
   "outputs": [
    {
     "name": "stdout",
     "output_type": "stream",
     "text": [
      "AUC-ROC: -0.9924042914487927                                                                                       \n",
      "F1-SCORE: -0.9166666666666666                                                                                      \n",
      "AUC-ROC: -0.9855996133535634                                                                                       \n",
      "F1-SCORE: -0.8933333333333333                                                                                      \n",
      "AUC-ROC: -0.9943970619799828                                                                                       \n",
      "F1-SCORE: -0.9266666666666666                                                                                      \n",
      "AUC-ROC: -0.9881753245373202                                                                                       \n",
      "F1-SCORE: -0.9033333333333333                                                                                      \n",
      "AUC-ROC: -0.9920288782791619                                                                                       \n",
      "F1-SCORE: -0.92                                                                                                    \n",
      "100%|█████████████████████████████████████████████| 5/5 [01:30<00:00, 18.07s/trial, best loss: -0.9943970619799828]\n"
     ]
    }
   ],
   "source": [
    "trails = Trials()\n",
    "best_res = fmin(\n",
    "    fn = optimize,\n",
    "    space = SEARCH_SPACE,\n",
    "    algo = tpe.suggest,\n",
    "    max_evals=5,\n",
    "    trials=trails\n",
    ")"
   ]
  },
  {
   "cell_type": "code",
   "execution_count": null,
   "id": "875dc41e-f1ec-430f-8c3e-7aae7fcbddd5",
   "metadata": {},
   "outputs": [],
   "source": []
  }
 ],
 "metadata": {
  "kernelspec": {
   "display_name": "Python 3 (ipykernel)",
   "language": "python",
   "name": "python3"
  },
  "language_info": {
   "codemirror_mode": {
    "name": "ipython",
    "version": 3
   },
   "file_extension": ".py",
   "mimetype": "text/x-python",
   "name": "python",
   "nbconvert_exporter": "python",
   "pygments_lexer": "ipython3",
   "version": "3.10.0"
  }
 },
 "nbformat": 4,
 "nbformat_minor": 5
}
